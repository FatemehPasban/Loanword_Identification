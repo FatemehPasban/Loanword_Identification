{
  "nbformat": 4,
  "nbformat_minor": 0,
  "metadata": {
    "colab": {
      "name": "testing phase.ipynb",
      "provenance": [],
      "collapsed_sections": [],
      "include_colab_link": true
    },
    "kernelspec": {
      "display_name": "Python 3",
      "name": "python3"
    },
    "language_info": {
      "name": "python"
    }
  },
  "cells": [
    {
      "cell_type": "markdown",
      "metadata": {
        "id": "view-in-github",
        "colab_type": "text"
      },
      "source": [
        "<a href=\"https://colab.research.google.com/github/FatemehPasban/Loanword_Identification/blob/main/testing_phase.ipynb\" target=\"_parent\"><img src=\"https://colab.research.google.com/assets/colab-badge.svg\" alt=\"Open In Colab\"/></a>"
      ]
    },
    {
      "cell_type": "code",
      "metadata": {
        "colab": {
          "base_uri": "https://localhost:8080/"
        },
        "id": "GP6-O_JzZ_q4",
        "outputId": "bdd65b8f-8d43-4346-e44e-e2218784d8d1"
      },
      "source": [
        "from google.colab import drive\n",
        "drive.mount('/content/drive')"
      ],
      "execution_count": null,
      "outputs": [
        {
          "output_type": "stream",
          "text": [
            "Drive already mounted at /content/drive; to attempt to forcibly remount, call drive.mount(\"/content/drive\", force_remount=True).\n"
          ],
          "name": "stdout"
        }
      ]
    },
    {
      "cell_type": "code",
      "metadata": {
        "id": "B71AIbQL0k_P",
        "colab": {
          "base_uri": "https://localhost:8080/"
        },
        "outputId": "385a2578-4e34-4b05-d014-f895ea4b6ab3"
      },
      "source": [
        "!pip install transformers"
      ],
      "execution_count": null,
      "outputs": [
        {
          "output_type": "stream",
          "text": [
            "Collecting transformers\n",
            "\u001b[?25l  Downloading https://files.pythonhosted.org/packages/00/92/6153f4912b84ee1ab53ab45663d23e7cf3704161cb5ef18b0c07e207cef2/transformers-4.7.0-py3-none-any.whl (2.5MB)\n",
            "\u001b[K     |████████████████████████████████| 2.5MB 5.1MB/s \n",
            "\u001b[?25hRequirement already satisfied: regex!=2019.12.17 in /usr/local/lib/python3.7/dist-packages (from transformers) (2019.12.20)\n",
            "Requirement already satisfied: pyyaml in /usr/local/lib/python3.7/dist-packages (from transformers) (3.13)\n",
            "Requirement already satisfied: numpy>=1.17 in /usr/local/lib/python3.7/dist-packages (from transformers) (1.19.5)\n",
            "Requirement already satisfied: packaging in /usr/local/lib/python3.7/dist-packages (from transformers) (20.9)\n",
            "Collecting tokenizers<0.11,>=0.10.1\n",
            "\u001b[?25l  Downloading https://files.pythonhosted.org/packages/d4/e2/df3543e8ffdab68f5acc73f613de9c2b155ac47f162e725dcac87c521c11/tokenizers-0.10.3-cp37-cp37m-manylinux_2_5_x86_64.manylinux1_x86_64.manylinux_2_12_x86_64.manylinux2010_x86_64.whl (3.3MB)\n",
            "\u001b[K     |████████████████████████████████| 3.3MB 29.5MB/s \n",
            "\u001b[?25hRequirement already satisfied: importlib-metadata; python_version < \"3.8\" in /usr/local/lib/python3.7/dist-packages (from transformers) (4.5.0)\n",
            "Requirement already satisfied: filelock in /usr/local/lib/python3.7/dist-packages (from transformers) (3.0.12)\n",
            "Requirement already satisfied: tqdm>=4.27 in /usr/local/lib/python3.7/dist-packages (from transformers) (4.41.1)\n",
            "Requirement already satisfied: requests in /usr/local/lib/python3.7/dist-packages (from transformers) (2.23.0)\n",
            "Collecting huggingface-hub==0.0.8\n",
            "  Downloading https://files.pythonhosted.org/packages/a1/88/7b1e45720ecf59c6c6737ff332f41c955963090a18e72acbcbeac6b25e86/huggingface_hub-0.0.8-py3-none-any.whl\n",
            "Collecting sacremoses\n",
            "\u001b[?25l  Downloading https://files.pythonhosted.org/packages/75/ee/67241dc87f266093c533a2d4d3d69438e57d7a90abb216fa076e7d475d4a/sacremoses-0.0.45-py3-none-any.whl (895kB)\n",
            "\u001b[K     |████████████████████████████████| 901kB 43.8MB/s \n",
            "\u001b[?25hRequirement already satisfied: pyparsing>=2.0.2 in /usr/local/lib/python3.7/dist-packages (from packaging->transformers) (2.4.7)\n",
            "Requirement already satisfied: zipp>=0.5 in /usr/local/lib/python3.7/dist-packages (from importlib-metadata; python_version < \"3.8\"->transformers) (3.4.1)\n",
            "Requirement already satisfied: typing-extensions>=3.6.4; python_version < \"3.8\" in /usr/local/lib/python3.7/dist-packages (from importlib-metadata; python_version < \"3.8\"->transformers) (3.7.4.3)\n",
            "Requirement already satisfied: certifi>=2017.4.17 in /usr/local/lib/python3.7/dist-packages (from requests->transformers) (2021.5.30)\n",
            "Requirement already satisfied: urllib3!=1.25.0,!=1.25.1,<1.26,>=1.21.1 in /usr/local/lib/python3.7/dist-packages (from requests->transformers) (1.24.3)\n",
            "Requirement already satisfied: idna<3,>=2.5 in /usr/local/lib/python3.7/dist-packages (from requests->transformers) (2.10)\n",
            "Requirement already satisfied: chardet<4,>=3.0.2 in /usr/local/lib/python3.7/dist-packages (from requests->transformers) (3.0.4)\n",
            "Requirement already satisfied: click in /usr/local/lib/python3.7/dist-packages (from sacremoses->transformers) (7.1.2)\n",
            "Requirement already satisfied: six in /usr/local/lib/python3.7/dist-packages (from sacremoses->transformers) (1.15.0)\n",
            "Requirement already satisfied: joblib in /usr/local/lib/python3.7/dist-packages (from sacremoses->transformers) (1.0.1)\n",
            "Installing collected packages: tokenizers, huggingface-hub, sacremoses, transformers\n",
            "Successfully installed huggingface-hub-0.0.8 sacremoses-0.0.45 tokenizers-0.10.3 transformers-4.7.0\n"
          ],
          "name": "stdout"
        }
      ]
    },
    {
      "cell_type": "code",
      "metadata": {
        "id": "p64dcbSBzGI7"
      },
      "source": [
        "import numpy as np\n",
        "\n",
        "import torch\n",
        "from torch import nn\n",
        "import transformers"
      ],
      "execution_count": null,
      "outputs": []
    },
    {
      "cell_type": "markdown",
      "metadata": {
        "id": "htpaBeuIzWfD"
      },
      "source": [
        "pickle did not save the model class itself.so:"
      ]
    },
    {
      "cell_type": "code",
      "metadata": {
        "id": "ldaY0F44zV_O"
      },
      "source": [
        "class RootClassifierModel(nn.Module):\n",
        "    \n",
        "\n",
        "    def __init__(self, config):\n",
        "        super(RootClassifierModel, self).__init__()\n",
        "\n",
        "        self.bert = BertModel.from_pretrained(model_name,return_dict=False)\n",
        "        self.dropout = nn.Dropout(config.hidden_dropout_prob)\n",
        "        self.Root_classifier = nn.Linear(config.hidden_size, 2 )\n",
        "    \n",
        "    def forward(self, input_ids, attention_mask):\n",
        "    #def forward(self, input):\n",
        "        sequence_output , pooled_output = self.bert(\n",
        "            #input\n",
        "            input_ids=input_ids, \n",
        "            attention_mask=attention_mask\n",
        "            )\n",
        "        pooled_output = self.dropout(pooled_output)\n",
        "        Root_logits = self.Root_classifier(pooled_output)\n",
        "\n",
        "        return Root_logits"
      ],
      "execution_count": null,
      "outputs": []
    },
    {
      "cell_type": "code",
      "metadata": {
        "id": "tVMf4iN9yFZ7"
      },
      "source": [
        "model_path = '/content/drive/MyDrive/uni2_project/Root Finder Model/RootClassifierModel_bigdataa.pt'\n",
        "tokenizer = transformers.BertTokenizer.from_pretrained('HooshvareLab/bert-fa-base-uncased')\n",
        "Root_finder_model = torch.load(model_path)\n",
        "Root_finder_model.eval()"
      ],
      "execution_count": null,
      "outputs": []
    },
    {
      "cell_type": "code",
      "metadata": {
        "id": "1JQ97N7SA_fn"
      },
      "source": [
        "def encode_text(tokenizer, text_sequences, max_length):\n",
        "    token_ids = np.zeros(shape=(len(text_sequences), max_length),\n",
        "                         dtype=np.int32)\n",
        "    for i, text_sequence in enumerate(text_sequences):\n",
        "        encoded = tokenizer.encode(text_sequence)\n",
        "        token_ids[i, 0:len(encoded)] = encoded\n",
        "    attention_masks = (token_ids != 0).astype(np.int32)\n",
        "    return {\"input_ids\": token_ids, \"attention_masks\": attention_masks}\n"
      ],
      "execution_count": null,
      "outputs": []
    },
    {
      "cell_type": "code",
      "metadata": {
        "colab": {
          "base_uri": "https://localhost:8080/"
        },
        "id": "Lv4UvrVW2hsz",
        "outputId": "979ff13f-7ba0-4125-a926-aef0f805ed14"
      },
      "source": [
        "text = input('Enter your word : ')\n",
        "text1 = list( text)\n",
        "encoded = encode_text(tokenizer , text1 , 45)\n",
        "ids = torch.utils.data.DataLoader(encoded['input_ids'] , batch_size= 1 , shuffle=False)\n",
        "mask = torch.utils.data.DataLoader(encoded['attention_masks'] , batch_size= 1 , shuffle=False)\n",
        "\n",
        "for id,ms in zip(enumerate(ids),enumerate(mask)):\n",
        "  result = Root_finder_model(id[1] , ms[1] )\n",
        "\n",
        "_,pred = torch.max(result,dim=1)\n",
        "if int(pred)==1 :\n",
        "  print('ریشه عربی دارد.')\n",
        "elif int(pred)==0:\n",
        "  print('ریشه عربی ندارد.')\n"
      ],
      "execution_count": null,
      "outputs": [
        {
          "output_type": "stream",
          "text": [
            "Enter your word : مثلا\n",
            "ریشه عربی دارد.\n"
          ],
          "name": "stdout"
        }
      ]
    },
    {
      "cell_type": "code",
      "metadata": {
        "id": "3jebT9qwNohG"
      },
      "source": [
        "#Enter your word : استعمال\n",
        "#.ریشه عربی دارد.\n",
        "\n",
        "#Enter your word : کلمات\n",
        "#ریشه عربی دارد.\n",
        "\n",
        "#Enter your word : اکیدا\n",
        "#ریشه عربی دارد.\n",
        "\n",
        "#Enter your word : ممنوع\n",
        "#ریشه عربی دارد.\n",
        "\n",
        "#----------\n",
        "#Enter your word : بکارگیری\n",
        "#ریشه عربی ندارد.\n",
        "\n",
        "#Enter your word : واژه\n",
        "#ریشه عربی ندارد.\n",
        "\n",
        "#Enter your word : واژگان\n",
        "#ریشه عربی ندارد.\n",
        "\n",
        "#Enter your word : عربی   # اشتباه\n",
        "#ریشه عربی ندارد.\n",
        "\n",
        "#Enter your word : قدغن\n",
        "#ریشه عربی ندارد."
      ],
      "execution_count": null,
      "outputs": []
    },
    {
      "cell_type": "code",
      "metadata": {
        "id": "Z0TMlXpD5vS0"
      },
      "source": [
        ""
      ],
      "execution_count": null,
      "outputs": []
    }
  ]
}